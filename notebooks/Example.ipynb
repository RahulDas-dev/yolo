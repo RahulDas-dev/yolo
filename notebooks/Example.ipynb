{
 "cells": [
  {
   "cell_type": "markdown",
   "id": "3a5bdedf",
   "metadata": {},
   "source": [
    "## Import Statement"
   ]
  },
  {
   "cell_type": "code",
   "execution_count": 1,
   "id": "a6bfd643",
   "metadata": {},
   "outputs": [
    {
     "name": "stdout",
     "output_type": "stream",
     "text": [
      "Tensorflow Version 2.8.0\n",
      "Pandas  Version    1.3.5\n",
      "Numpy  Version     1.20.3\n"
     ]
    }
   ],
   "source": [
    "import os\n",
    "import shutil\n",
    "import math\n",
    "import yaml\n",
    "import ast\n",
    "import argparse\n",
    "import sys, math\n",
    "from copy import deepcopy\n",
    "from pathlib import Path\n",
    "\n",
    "from tqdm.notebook import tqdm\n",
    "from tensorflow import keras\n",
    "import matplotlib.pyplot as plt\n",
    "import tensorflow as tf\n",
    "import numpy as np\n",
    "import pandas as pd\n",
    "\n",
    "print(f\"Tensorflow Version {tf.__version__}\")\n",
    "print(f\"Pandas  Version    {pd.__version__}\")\n",
    "print(f\"Numpy  Version     {np.__version__}\")"
   ]
  },
  {
   "cell_type": "markdown",
   "id": "e6304203",
   "metadata": {},
   "source": [
    "## Adding Src Directory to Sys Path"
   ]
  },
  {
   "cell_type": "code",
   "execution_count": 2,
   "id": "6b8fc4c3",
   "metadata": {},
   "outputs": [
    {
     "name": "stdout",
     "output_type": "stream",
     "text": [
      "Project Path  C:\\Users\\admin\\Desktop\\codespace\\python\\yolov4\n",
      "Src Path      C:\\Users\\admin\\Desktop\\codespace\\python\\yolov4\\src\n",
      "Data Path     C:\\Users\\admin\\Desktop\\codespace\\python\\yolov4\\data\n",
      "Model Path    C:\\Users\\admin\\Desktop\\codespace\\python\\yolov4\\model\n"
     ]
    }
   ],
   "source": [
    "project_directory = os.path.abspath(\"..\")\n",
    "print(f\"Project Path  {project_directory}\")\n",
    "\n",
    "src_path = os.path.join(project_directory, \"src\")\n",
    "print(f\"Src Path      {src_path}\")\n",
    "\n",
    "data_path = os.path.join(project_directory, \"data\")\n",
    "print(f\"Data Path     {data_path}\")\n",
    "\n",
    "model_path = os.path.join(project_directory, \"model\")\n",
    "print(f\"Model Path    {model_path}\")\n",
    "\n",
    "os.chdir(project_directory)\n",
    "sys.path.append(src_path)"
   ]
  },
  {
   "cell_type": "markdown",
   "id": "c6954d31",
   "metadata": {},
   "source": [
    "## Basic Notebook Settings"
   ]
  },
  {
   "cell_type": "code",
   "execution_count": 3,
   "id": "ad4093e7",
   "metadata": {},
   "outputs": [],
   "source": [
    "# sns.set_theme(style=\"darkgrid\")\n",
    "pd.set_option(\"display.max_colwidth\", 1000)\n",
    "seed_value = 1000\n",
    "# random.seed(seed_value)\n",
    "np.random.seed(seed_value)\n",
    "tf.random.set_seed(seed_value)\n",
    "tqdm.pandas()"
   ]
  },
  {
   "cell_type": "markdown",
   "id": "d8508fb6",
   "metadata": {},
   "source": [
    "## Removing pycache and ipynv_cache"
   ]
  },
  {
   "cell_type": "code",
   "execution_count": 4,
   "id": "8a8ba42e",
   "metadata": {},
   "outputs": [
    {
     "name": "stdout",
     "output_type": "stream",
     "text": [
      "\"Removing __pycache__ ....\"\n"
     ]
    },
    {
     "name": "stderr",
     "output_type": "stream",
     "text": [
      "Cleaning directory .\n",
      "Deleting file: src\\__pycache__\\config.cpython-39.pyc\n",
      "Deleting file: src\\__pycache__\\custom_layers.cpython-39.pyc\n",
      "Deleting file: src\\__pycache__\\loss.cpython-39.pyc\n",
      "Deleting file: src\\__pycache__\\models.cpython-39.pyc\n",
      "Deleting file: src\\__pycache__\\paths.cpython-39.pyc\n",
      "Deleting file: src\\__pycache__\\utils.cpython-39.pyc\n",
      "Deleting file: src\\__pycache__\\__init__.cpython-39.pyc\n",
      "Removing directory: src\\__pycache__\n",
      "Total 7 files, 1 directories removed.\n"
     ]
    },
    {
     "name": "stdout",
     "output_type": "stream",
     "text": [
      "\"Removing .ipynb__pycache__ ....\"\n"
     ]
    }
   ],
   "source": [
    "!echo \"Removing __pycache__ ....\"\n",
    "!pyclean --verbose .\n",
    "!echo \"Removing .ipynb__pycache__ ....\""
   ]
  },
  {
   "cell_type": "markdown",
   "id": "481124ac",
   "metadata": {},
   "source": [
    "## Code Formating using Black"
   ]
  },
  {
   "cell_type": "code",
   "execution_count": 5,
   "id": "1f034354",
   "metadata": {},
   "outputs": [
    {
     "name": "stderr",
     "output_type": "stream",
     "text": [
      "reformatted notebooks\\train.ipynb\n",
      "\n",
      "All done! \\u2728 \\U0001f370 \\u2728\n",
      "1 file reformatted, 12 files left unchanged.\n"
     ]
    }
   ],
   "source": [
    "!black ."
   ]
  },
  {
   "cell_type": "code",
   "execution_count": 6,
   "id": "b54afc1b",
   "metadata": {},
   "outputs": [
    {
     "name": "stdout",
     "output_type": "stream",
     "text": [
      "C:\\Users\\admin\\Desktop\\codespace\\python\\yolov4\\data\\classes.txt\n"
     ]
    }
   ],
   "source": [
    "from src import paths\n",
    "\n",
    "print(paths.class_paths)"
   ]
  },
  {
   "cell_type": "code",
   "execution_count": 7,
   "id": "b3270cac",
   "metadata": {},
   "outputs": [
    {
     "name": "stdout",
     "output_type": "stream",
     "text": [
      "num classes: 3\n"
     ]
    }
   ],
   "source": [
    "import xml.etree.ElementTree as ET\n",
    "import os\n",
    "from glob import glob\n",
    "\n",
    "\n",
    "def get_classes(classes_path):\n",
    "    with open(classes_path) as f:\n",
    "        class_names = f.readlines()\n",
    "    class_names = [c.strip() for c in class_names]\n",
    "    return class_names\n",
    "\n",
    "\n",
    "TXT_PATH = os.path.join(paths.data_directory, \"annotation.txt\")\n",
    "\n",
    "classes = get_classes(paths.class_paths)\n",
    "assert len(classes) > 0, \"no class names detected!\"\n",
    "print(f\"num classes: {len(classes)}\")\n",
    "\n",
    "# output file\n",
    "list_file = open(TXT_PATH, \"w\")\n",
    "\n",
    "for path in glob(os.path.join(paths.train_directory, \"*.xml\")):\n",
    "    in_file = open(path)\n",
    "\n",
    "    # Parse .xml file\n",
    "    tree = ET.parse(in_file)\n",
    "    root = tree.getroot()\n",
    "    # Write object information to .txt file\n",
    "    file_name = root.find(\"path\").text\n",
    "    # print(file_name)\n",
    "    list_file.write(file_name)\n",
    "    for obj in root.iter(\"object\"):\n",
    "        cls = obj.find(\"name\").text\n",
    "        cls_id = classes.index(cls)\n",
    "        xmlbox = obj.find(\"bndbox\")\n",
    "        b = (\n",
    "            int(xmlbox.find(\"xmin\").text),\n",
    "            int(xmlbox.find(\"ymin\").text),\n",
    "            int(xmlbox.find(\"xmax\").text),\n",
    "            int(xmlbox.find(\"ymax\").text),\n",
    "        )\n",
    "        list_file.write(\" \" + \",\".join([str(a) for a in b]) + \",\" + str(cls_id))\n",
    "    list_file.write(\"\\n\")\n",
    "list_file.close()"
   ]
  },
  {
   "cell_type": "code",
   "execution_count": null,
   "id": "2a019729",
   "metadata": {},
   "outputs": [],
   "source": []
  }
 ],
 "metadata": {
  "kernelspec": {
   "display_name": "Python 3",
   "language": "python",
   "name": "python3"
  },
  "language_info": {
   "codemirror_mode": {
    "name": "ipython",
    "version": 3
   },
   "file_extension": ".py",
   "mimetype": "text/x-python",
   "name": "python",
   "nbconvert_exporter": "python",
   "pygments_lexer": "ipython3",
   "version": "3.9.5"
  },
  "toc": {
   "base_numbering": 1,
   "nav_menu": {},
   "number_sections": true,
   "sideBar": true,
   "skip_h1_title": false,
   "title_cell": "Table of Contents",
   "title_sidebar": "Contents",
   "toc_cell": false,
   "toc_position": {},
   "toc_section_display": true,
   "toc_window_display": false
  }
 },
 "nbformat": 4,
 "nbformat_minor": 5
}
